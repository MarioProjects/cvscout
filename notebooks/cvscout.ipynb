{
 "cells": [
  {
   "cell_type": "code",
   "execution_count": 1,
   "metadata": {},
   "outputs": [],
   "source": [
    "from cvscout import CVScout, Candidato\n",
    "from data.example import JOB_TITLE, CV"
   ]
  },
  {
   "cell_type": "code",
   "execution_count": 2,
   "metadata": {},
   "outputs": [],
   "source": [
    "MODEL = \"gpt-4-turbo\"  # \"gpt-4o\" or \"gpt-4-turbo\"\n",
    "cvscout = CVScout(model=MODEL)"
   ]
  },
  {
   "cell_type": "code",
   "execution_count": 3,
   "metadata": {},
   "outputs": [
    {
     "name": "stdout",
     "output_type": "stream",
     "text": [
      "Job title: Cajero supermercado Dia\n",
      "Candidate information:\n",
      "{\n",
      "    \"nombre\": \"Imad Saidi\",\n",
      "    \"edad\": 21,\n",
      "    \"experiencia\": [\n",
      "        {\n",
      "            \"empresa\": \"Mercadona\",\n",
      "            \"puesto\": \"Vendedor/a de puesto de mercado\",\n",
      "            \"fecha_inicio\": \"2023-10-01T00:00:00Z\",\n",
      "            \"fecha_fin\": \"2024-03-01T00:00:00Z\",\n",
      "            \"relacionado\": true,\n",
      "            \"duracion\": \"5 meses\"\n",
      "        }\n",
      "    ],\n",
      "    \"resumen\": \"Experiencia relevante: Vendedor/a de puesto de mercado en Mercadona, Octubre 2023 a Marzo 2024. Responsabilidades incluían atención al cliente, limpieza, arqueo de caja, y gestión de productos. El score asignado al candidato se calcula teniendo en cuenta la experiencia laboral relacionada con el puesto ofertado, premiando la fidelidad del candidato en las empresas en las que ha trabajado.\",\n",
      "    \"score\": 32\n",
      "}\n"
     ]
    }
   ],
   "source": [
    "# extract the response\n",
    "try:\n",
    "    info_candidato: Candidato = cvscout(JOB_TITLE, CV)\n",
    "    print(f\"Job title: {JOB_TITLE}\")\n",
    "    print(\"Candidate information:\")\n",
    "    print(info_candidato.model_dump_json(indent=4))\n",
    "except Exception as e:\n",
    "    print(f\"An error occurred: {e}\")"
   ]
  }
 ],
 "metadata": {
  "kernelspec": {
   "display_name": "env",
   "language": "python",
   "name": "python3"
  },
  "language_info": {
   "codemirror_mode": {
    "name": "ipython",
    "version": 3
   },
   "file_extension": ".py",
   "mimetype": "text/x-python",
   "name": "python",
   "nbconvert_exporter": "python",
   "pygments_lexer": "ipython3",
   "version": "3.12.3"
  }
 },
 "nbformat": 4,
 "nbformat_minor": 2
}
